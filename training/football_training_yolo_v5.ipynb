{
 "cells": [
  {
   "cell_type": "code",
   "execution_count": 8,
   "metadata": {},
   "outputs": [
    {
     "name": "stdout",
     "output_type": "stream",
     "text": [
      "Defaulting to user installation because normal site-packages is not writeable\n",
      "Requirement already satisfied: ultralytics in /home/richardfang/.local/lib/python3.10/site-packages (8.2.56)\n",
      "Requirement already satisfied: scipy>=1.4.1 in /usr/lib/python3/dist-packages (from ultralytics) (1.8.0)\n",
      "Requirement already satisfied: py-cpuinfo in /home/richardfang/.local/lib/python3.10/site-packages (from ultralytics) (9.0.0)\n",
      "Requirement already satisfied: ultralytics-thop>=2.0.0 in /home/richardfang/.local/lib/python3.10/site-packages (from ultralytics) (2.0.0)\n",
      "Requirement already satisfied: pillow>=7.1.2 in /usr/lib/python3/dist-packages (from ultralytics) (9.0.1)\n",
      "Requirement already satisfied: opencv-python>=4.6.0 in /home/richardfang/.local/lib/python3.10/site-packages (from ultralytics) (4.6.0.66)\n",
      "Requirement already satisfied: requests>=2.23.0 in /usr/lib/python3/dist-packages (from ultralytics) (2.25.1)\n",
      "Requirement already satisfied: numpy<2.0.0,>=1.23.0 in /home/richardfang/.local/lib/python3.10/site-packages (from ultralytics) (1.26.4)\n",
      "Requirement already satisfied: psutil in /home/richardfang/.local/lib/python3.10/site-packages (from ultralytics) (6.0.0)\n",
      "Requirement already satisfied: seaborn>=0.11.0 in /home/richardfang/.local/lib/python3.10/site-packages (from ultralytics) (0.13.2)\n",
      "Requirement already satisfied: torch>=1.8.0 in /home/richardfang/.local/lib/python3.10/site-packages (from ultralytics) (1.12.1)\n",
      "Requirement already satisfied: torchvision>=0.9.0 in /home/richardfang/.local/lib/python3.10/site-packages (from ultralytics) (0.13.1)\n",
      "Requirement already satisfied: tqdm>=4.64.0 in /home/richardfang/.local/lib/python3.10/site-packages (from ultralytics) (4.66.4)\n",
      "Requirement already satisfied: pyyaml>=5.3.1 in /usr/lib/python3/dist-packages (from ultralytics) (5.4.1)\n",
      "Requirement already satisfied: pandas>=1.1.4 in /home/richardfang/.local/lib/python3.10/site-packages (from ultralytics) (2.2.2)\n",
      "Requirement already satisfied: matplotlib>=3.3.0 in /usr/lib/python3/dist-packages (from ultralytics) (3.5.1)\n",
      "Requirement already satisfied: python-dateutil>=2.8.2 in /home/richardfang/.local/lib/python3.10/site-packages (from pandas>=1.1.4->ultralytics) (2.9.0.post0)\n",
      "Requirement already satisfied: pytz>=2020.1 in /usr/lib/python3/dist-packages (from pandas>=1.1.4->ultralytics) (2022.1)\n",
      "Requirement already satisfied: tzdata>=2022.7 in /home/richardfang/.local/lib/python3.10/site-packages (from pandas>=1.1.4->ultralytics) (2024.1)\n",
      "Requirement already satisfied: typing-extensions in /home/richardfang/.local/lib/python3.10/site-packages (from torch>=1.8.0->ultralytics) (4.4.0)\n",
      "Requirement already satisfied: six>=1.5 in /usr/lib/python3/dist-packages (from python-dateutil>=2.8.2->pandas>=1.1.4->ultralytics) (1.16.0)\n",
      "Defaulting to user installation because normal site-packages is not writeable\n",
      "Requirement already satisfied: roboflow in /home/richardfang/.local/lib/python3.10/site-packages (1.1.34)\n",
      "Requirement already satisfied: Pillow>=7.1.2 in /usr/lib/python3/dist-packages (from roboflow) (9.0.1)\n",
      "Requirement already satisfied: python-dotenv in /home/richardfang/.local/lib/python3.10/site-packages (from roboflow) (1.0.1)\n",
      "Requirement already satisfied: chardet==4.0.0 in /usr/lib/python3/dist-packages (from roboflow) (4.0.0)\n",
      "Requirement already satisfied: kiwisolver>=1.3.1 in /usr/lib/python3/dist-packages (from roboflow) (1.3.2)\n",
      "Requirement already satisfied: requests-toolbelt in /home/richardfang/.local/lib/python3.10/site-packages (from roboflow) (1.0.0)\n",
      "Requirement already satisfied: python-dateutil in /home/richardfang/.local/lib/python3.10/site-packages (from roboflow) (2.9.0.post0)\n",
      "Requirement already satisfied: numpy>=1.18.5 in /home/richardfang/.local/lib/python3.10/site-packages (from roboflow) (1.26.4)\n",
      "Requirement already satisfied: requests in /usr/lib/python3/dist-packages (from roboflow) (2.25.1)\n",
      "Requirement already satisfied: urllib3>=1.26.6 in /home/richardfang/.local/lib/python3.10/site-packages (from roboflow) (2.2.2)\n",
      "Requirement already satisfied: tqdm>=4.41.0 in /home/richardfang/.local/lib/python3.10/site-packages (from roboflow) (4.66.4)\n",
      "Requirement already satisfied: cycler in /usr/lib/python3/dist-packages (from roboflow) (0.11.0)\n",
      "Requirement already satisfied: python-magic in /usr/lib/python3/dist-packages (from roboflow) (0.4.24)\n",
      "Requirement already satisfied: certifi in /usr/lib/python3/dist-packages (from roboflow) (2020.6.20)\n",
      "Requirement already satisfied: six in /usr/lib/python3/dist-packages (from roboflow) (1.16.0)\n",
      "Requirement already satisfied: idna==3.7 in /home/richardfang/.local/lib/python3.10/site-packages (from roboflow) (3.7)\n",
      "Requirement already satisfied: opencv-python-headless==4.10.0.84 in /home/richardfang/.local/lib/python3.10/site-packages (from roboflow) (4.10.0.84)\n",
      "Requirement already satisfied: matplotlib in /usr/lib/python3/dist-packages (from roboflow) (3.5.1)\n",
      "Requirement already satisfied: PyYAML>=5.3.1 in /usr/lib/python3/dist-packages (from roboflow) (5.4.1)\n"
     ]
    }
   ],
   "source": [
    "!pip install ultralytics\n",
    "!pip install roboflow"
   ]
  },
  {
   "cell_type": "markdown",
   "metadata": {},
   "source": [
    "# Get Dataset"
   ]
  },
  {
   "cell_type": "code",
   "execution_count": 12,
   "metadata": {},
   "outputs": [
    {
     "name": "stdout",
     "output_type": "stream",
     "text": [
      "loading Roboflow workspace...\n",
      "loading Roboflow project...\n"
     ]
    },
    {
     "name": "stderr",
     "output_type": "stream",
     "text": [
      "Downloading Dataset Version Zip in football-players-detection-1 to yolov5pytorch:: 100%|██████████| 148663/148663 [01:11<00:00, 2092.96it/s]"
     ]
    },
    {
     "name": "stdout",
     "output_type": "stream",
     "text": [
      "\n"
     ]
    },
    {
     "name": "stderr",
     "output_type": "stream",
     "text": [
      "\n",
      "Extracting Dataset Version Zip to football-players-detection-1 in yolov5pytorch:: 100%|██████████| 1338/1338 [00:40<00:00, 33.35it/s]\n"
     ]
    }
   ],
   "source": [
    "from roboflow import Roboflow\n",
    "rf = Roboflow(api_key=\"cBZ3BvEiZygpVmXR81Rx\")\n",
    "project = rf.workspace(\"roboflow-jvuqo\").project(\"football-players-detection-3zvbc\")\n",
    "version = project.version(1)\n",
    "dataset = version.download(\"yolov5\")\n"
   ]
  },
  {
   "cell_type": "code",
   "execution_count": 13,
   "metadata": {},
   "outputs": [
    {
     "data": {
      "text/plain": [
       "'/mnt/c/Users/GC/Coding Projects/analysoccer/training/football-players-detection-1'"
      ]
     },
     "execution_count": 13,
     "metadata": {},
     "output_type": "execute_result"
    }
   ],
   "source": [
    "dataset.location"
   ]
  },
  {
   "cell_type": "code",
   "execution_count": 1,
   "metadata": {},
   "outputs": [
    {
     "data": {
      "text/plain": [
       "'football-players-detection-1/football-players-detection-1/valid'"
      ]
     },
     "execution_count": 1,
     "metadata": {},
     "output_type": "execute_result"
    }
   ],
   "source": [
    "import shutil\n",
    "\n",
    "shutil.move('football-players-detection-1/train', 'football-players-detection-1/football-players-detection-1/train')\n",
    "\n",
    "shutil.move('football-players-detection-1/test', 'football-players-detection-1/football-players-detection-1/test')\n",
    "\n",
    "shutil.move('football-players-detection-1/valid', 'football-players-detection-1/football-players-detection-1/valid')"
   ]
  },
  {
   "cell_type": "markdown",
   "metadata": {},
   "source": [
    "# Training"
   ]
  },
  {
   "cell_type": "code",
   "execution_count": null,
   "metadata": {},
   "outputs": [],
   "source": [
    "!yolo task=detect mode=train model=yolov5x.pt data={dataset.location}/data.yaml epochs=100 imgsz=640"
   ]
  }
 ],
 "metadata": {
  "kernelspec": {
   "display_name": "Python 3",
   "language": "python",
   "name": "python3"
  },
  "language_info": {
   "codemirror_mode": {
    "name": "ipython",
    "version": 3
   },
   "file_extension": ".py",
   "mimetype": "text/x-python",
   "name": "python",
   "nbconvert_exporter": "python",
   "pygments_lexer": "ipython3",
   "version": "3.10.12"
  }
 },
 "nbformat": 4,
 "nbformat_minor": 2
}
